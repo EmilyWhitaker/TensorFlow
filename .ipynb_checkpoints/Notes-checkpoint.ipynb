{
 "cells": [
  {
   "cell_type": "markdown",
   "metadata": {},
   "source": [
    "What is TensorFlow?\n",
    "\n",
    "TensorFlow is an open source liberary that is mainly used for machine learning and neural neworks. \n",
    "\n",
    "It works on GPUs and "
   ]
  },
  {
   "cell_type": "markdown",
   "metadata": {},
   "source": [
    "Softmax:\n",
    "- tf.nn.softmax\n",
    "- A form of regression that assigns a probablilty to an object being one of many things \n",
    "- The final step in most TensorFlow models is a softmax regression\n",
    "- It has two steps: adding up the evidence of the input being in a certian class\n",
    "    - converting the evidence into probablities \n",
    "    - exponentiating inpunts then normalizes them\n",
    "- see more about softmax here: (http://neuralnetworksanddeeplearning.com/chap3.html#softmax) it is really important to understand softmax as almost everything in TensorFlow as a component of softmax\n",
    "- a softmax, as do other common tensorflow equations, use weights and baises (explained below)  "
   ]
  },
  {
   "cell_type": "markdown",
   "metadata": {},
   "source": [
    "Cross entropy distance \n",
    "\n",
    "variable \n",
    "   - A modifiable tensor that can be used and modified by tensorflow-- call by usign tf.Variable  \n",
    "placeholder\n",
    "   - A placeholder is a type of \n",
    "\n",
    "Weights and Biases\n",
    "   - Weights:\n",
    "       - \n",
    "   - Biases:\n",
    "       - extra evdience in our model that states that somethings are more likely to happen than others\n",
    "Tensor\n",
    "\n"
   ]
  },
  {
   "cell_type": "markdown",
   "metadata": {},
   "source": [
    "Training Models\n",
    "- What does that mean?\n",
    "    - define what it means for the model to be bad and try to do the opposite\n",
    "     - to do this the \"cross entropy distance\" or distance from the model to the disired outcome is calculated "
   ]
  }
 ],
 "metadata": {
  "kernelspec": {
   "display_name": "Python 3",
   "language": "python",
   "name": "python3"
  },
  "language_info": {
   "codemirror_mode": {
    "name": "ipython",
    "version": 3
   },
   "file_extension": ".py",
   "mimetype": "text/x-python",
   "name": "python",
   "nbconvert_exporter": "python",
   "pygments_lexer": "ipython3",
   "version": "3.6.3"
  }
 },
 "nbformat": 4,
 "nbformat_minor": 2
}
